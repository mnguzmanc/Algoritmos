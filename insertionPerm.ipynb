{
 "cells": [
  {
   "cell_type": "markdown",
   "metadata": {},
   "source": [
    "# Insertion Sort\n",
    "Código basado en http://disi.unal.edu.co/~algorithms/python/insertionsort.py\n",
    "\n",
    "Se pueden generar permutaciones hasta con n = 11, si fuera igual a 12 no se puede seguir ejecutando en el computador."
   ]
  },
  {
   "cell_type": "code",
   "execution_count": 1,
   "metadata": {},
   "outputs": [],
   "source": [
    "import random\n",
    "import itertools\n",
    "import matplotlib.pyplot as plt"
   ]
  },
  {
   "cell_type": "code",
   "execution_count": null,
   "metadata": {},
   "outputs": [],
   "source": [
    "def randPermut(n):\n",
    "    lis = []\n",
    "\n",
    "    for i in range(n):\n",
    "        lis.append([])\n",
    "        lis[i] = i + 1\n",
    "\n",
    "    for i in range(n - 1):\n",
    "        x = random.randint(i, n - 1)\n",
    "        temp = lis[i]\n",
    "        lis[i] = lis[x]\n",
    "        lis[x] = temp\n",
    "\n",
    "    return lis"
   ]
  },
  {
   "cell_type": "code",
   "execution_count": 2,
   "metadata": {},
   "outputs": [],
   "source": [
    "# insertion sort instructions\n",
    "def numInstruc(x):\n",
    "\n",
    "    n = len(x)\n",
    "    lis = []\n",
    "    inst = 0\n",
    "\n",
    "    for i in range(n):\n",
    "        lis.append([])\n",
    "        lis[i] = x[i]\n",
    "\n",
    "    #print(lis)\n",
    "\n",
    "    for i in range(1, n):\n",
    "\n",
    "        val = lis[i]\n",
    "        aux = i\n",
    "\n",
    "        while aux > 0 and lis[aux - 1] > val:\n",
    "            lis[aux] = lis[aux - 1]\n",
    "            aux -= 1\n",
    "            inst += 3\n",
    "\n",
    "        inst += 1\n",
    "        lis[aux] = val\n",
    "        inst += 4\n",
    "\n",
    "    inst += 1\n",
    "\n",
    "    #print(inst)\n",
    "    return inst"
   ]
  },
  {
   "cell_type": "code",
   "execution_count": 3,
   "metadata": {},
   "outputs": [],
   "source": [
    "n = 8\n",
    "num_runs = 0\n",
    "\n",
    "sum = 0\n",
    "min = n ** 3\n",
    "max = 0\n",
    "\n",
    "arrPerm = randPermut(n)\n",
    "arr = []\n",
    "\n",
    "for i in itertools.permutations(arrPerm):\n",
    "    t = numInstruc(i)\n",
    "    arr.append(t)\n",
    "    #print(t)\n",
    "    if t < min:\n",
    "        min = t\n",
    "    if t > max:\n",
    "        max = t\n",
    "\n",
    "    sum += t\n",
    "    num_runs += 1"
   ]
  },
  {
   "cell_type": "code",
   "execution_count": 4,
   "metadata": {},
   "outputs": [],
   "source": [
    "print('Mejor tiempo teórico, ' + str(5 * n - 4))\n",
    "print('Peor tiempo teórico, ' + str((3.0 / 2.0) * n ** 2 + (7.0 / 2.0) * n - 4))\n",
    "print('Tiempo promedio teórico, ' + str((3.0 / 4.0) * n ** 2 + (17.0 / 4.0) * n - 4))\n",
    "print('Mejor tiempo experimental, ' + str(min))\n",
    "print('Peor tiempo experimental, ' + str(max))\n",
    "print('Tiempo promedio experimental, ' + str(sum / num_runs))"
   ]
  },
  {
   "cell_type": "code",
   "execution_count": null,
   "metadata": {},
   "outputs": [],
   "source": [
    "plt.hist(arr, bins='auto')\n",
    "plt.title(\"Histograma n = 8 \")\n",
    "plt.show()"
   ]
  }
 ],
 "metadata": {
  "kernelspec": {
   "display_name": "Python 3",
   "language": "python",
   "name": "python3"
  },
  "language_info": {
   "codemirror_mode": {
    "name": "ipython",
    "version": 3
   },
   "file_extension": ".py",
   "mimetype": "text/x-python",
   "name": "python",
   "nbconvert_exporter": "python",
   "pygments_lexer": "ipython3",
   "version": "3.6.4"
  }
 },
 "nbformat": 4,
 "nbformat_minor": 2
}
