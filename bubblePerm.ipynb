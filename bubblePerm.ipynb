{
 "cells": [
  {
   "cell_type": "markdown",
   "metadata": {},
   "source": [
    "# Bubble Sort\n",
    "Código basado en http://disi.unal.edu.co/~algorithms/python/insertionsort.py\n",
    "\n",
    "## Bubble sort sobre todas las permutaciones\n",
    "Usando itertools y con un arreglo ordenado"
   ]
  },
  {
   "cell_type": "code",
   "execution_count": 1,
   "metadata": {},
   "outputs": [],
   "source": [
    "import itertools"
   ]
  },
  {
   "cell_type": "code",
   "execution_count": 2,
   "metadata": {},
   "outputs": [],
   "source": [
    "# bubble sort instructions \n",
    "def numInstruc(x):\n",
    "\n",
    "    n = len(x)\n",
    "    lis = []\n",
    "    inst = 0\n",
    "\n",
    "    for i in range(n):\n",
    "        lis.append([])\n",
    "        lis[i] = x[i]\n",
    "\n",
    "    #print(lis)\n",
    "\n",
    "    for i in range(n):\n",
    "        for j in range(0, n - i - 1):\n",
    "            inst += 1\n",
    "            if lis[j] > lis[j + 1]:\n",
    "                inst += 1\n",
    "                lis[j], lis[j + 1] = lis[j + 1], lis[j]\n",
    "        inst += 1\n",
    "    #print(inst)\n",
    "    return inst"
   ]
  },
  {
   "cell_type": "code",
   "execution_count": 3,
   "metadata": {},
   "outputs": [],
   "source": [
    "n = 8\n",
    "num_runs = 0\n",
    "arrPerm = []\n",
    "\n",
    "sum = 0\n",
    "min = n ** 3\n",
    "max = 0\n",
    "\n",
    "for i in range(n):\n",
    "    arrPerm.append([])\n",
    "    arrPerm[i] = i+1"
   ]
  },
  {
   "cell_type": "code",
   "execution_count": 4,
   "metadata": {},
   "outputs": [],
   "source": [
    "for i in itertools.permutations(arrPerm):\n",
    "    t = numInstruc(i)\n",
    "\n",
    "    if t < min:\n",
    "        min = t\n",
    "    if t > max:\n",
    "        max = t\n",
    "\n",
    "    sum += t\n",
    "    num_runs += 1"
   ]
  },
  {
   "cell_type": "code",
   "execution_count": 5,
   "metadata": {},
   "outputs": [
    {
     "name": "stdout",
     "output_type": "stream",
     "text": [
      "Mejor tiempo teórico: 36\n",
      "Peor tiempo teórico: 120.0\n",
      "Tiempo promedio teórico: 78.0\n",
      "Mejor tiempo experimental: 36\n",
      "Peor tiempo experimental: 64\n",
      "Tiempo promedio experimental: 50.0\n"
     ]
    }
   ],
   "source": [
    "print('Mejor tiempo teórico: ' + str(5 * n - 4))\n",
    "print('Peor tiempo teórico: ' + str((3.0 / 2.0) * n ** 2 + (7.0 / 2.0) * n - 4))\n",
    "print('Tiempo promedio teórico: ' + str((3.0 / 4.0) * n ** 2 + (17.0 / 4.0) * n - 4))\n",
    "print('Mejor tiempo experimental: ' + str(min))\n",
    "print('Peor tiempo experimental: ' + str(max))\n",
    "print('Tiempo promedio experimental: ' + str(sum / num_runs))"
   ]
  },
  {
   "cell_type": "markdown",
   "metadata": {},
   "source": [
    "## Bubble sort con una muestra aleatoria de permutaciones\n",
    "Usando itertools"
   ]
  },
  {
   "cell_type": "code",
   "execution_count": 6,
   "metadata": {},
   "outputs": [],
   "source": [
    "import random\n",
    "import itertools"
   ]
  },
  {
   "cell_type": "code",
   "execution_count": 7,
   "metadata": {},
   "outputs": [],
   "source": [
    "def randPermut(n):\n",
    "    lis = []\n",
    "\n",
    "    for i in range(n):\n",
    "        lis.append([])\n",
    "        lis[i] = i + 1\n",
    "\n",
    "    for i in range(n - 1):\n",
    "        x = random.randint(i, n - 1)\n",
    "        temp = lis[i]\n",
    "        lis[i] = lis[x]\n",
    "        lis[x] = temp\n",
    "\n",
    "    return lis"
   ]
  },
  {
   "cell_type": "code",
   "execution_count": 8,
   "metadata": {},
   "outputs": [],
   "source": [
    "# bubble sort\n",
    "def numInstruc(x):\n",
    "\n",
    "    n = len(x)\n",
    "    lis = []\n",
    "    inst = 0\n",
    "\n",
    "    for i in range(n):\n",
    "        lis.append([])\n",
    "        lis[i] = x[i]\n",
    "\n",
    "    #print(lis)\n",
    "\n",
    "    for i in range(n):\n",
    "        for j in range(0, n - i - 1):\n",
    "            inst += 1\n",
    "            if lis[j] > lis[j + 1]:\n",
    "                inst += 1\n",
    "                lis[j], lis[j + 1] = lis[j + 1], lis[j]\n",
    "        inst += 1\n",
    "    #print(inst)\n",
    "    return inst"
   ]
  },
  {
   "cell_type": "code",
   "execution_count": 9,
   "metadata": {},
   "outputs": [],
   "source": [
    "n = 8\n",
    "num_runs = 0\n",
    "\n",
    "sum = 0\n",
    "min = n ** 3\n",
    "max = 0\n",
    "\n",
    "arrPerm = randPermut(n)"
   ]
  },
  {
   "cell_type": "code",
   "execution_count": 10,
   "metadata": {},
   "outputs": [],
   "source": [
    "for i in itertools.permutations(arrPerm):\n",
    "    t = numInstruc(i)\n",
    "\n",
    "    if t < min:\n",
    "        min = t\n",
    "    if t > max:\n",
    "        max = t\n",
    "\n",
    "    sum += t\n",
    "    num_runs += 1"
   ]
  },
  {
   "cell_type": "code",
   "execution_count": 11,
   "metadata": {},
   "outputs": [
    {
     "name": "stdout",
     "output_type": "stream",
     "text": [
      "Mejor tiempo teórico: 36\n",
      "Peor tiempo teórico: 120.0\n",
      "Tiempo promedio teórico: 78.0\n",
      "Mejor tiempo experimental: 36\n",
      "Peor tiempo experimental: 64\n",
      "Tiempo promedio experimental: 50.0\n"
     ]
    }
   ],
   "source": [
    "print('Mejor tiempo teórico: ' + str(5 * n - 4))\n",
    "print('Peor tiempo teórico: ' + str((3.0 / 2.0) * n ** 2 + (7.0 / 2.0) * n - 4))\n",
    "print('Tiempo promedio teórico: ' + str((3.0 / 4.0) * n ** 2 + (17.0 / 4.0) * n - 4))\n",
    "print('Mejor tiempo experimental: ' + str(min))\n",
    "print('Peor tiempo experimental: ' + str(max))\n",
    "print('Tiempo promedio experimental: ' + str(sum / num_runs))"
   ]
  }
 ],
 "metadata": {
  "kernelspec": {
   "display_name": "Python 3",
   "language": "python",
   "name": "python3"
  },
  "language_info": {
   "codemirror_mode": {
    "name": "ipython",
    "version": 3
   },
   "file_extension": ".py",
   "mimetype": "text/x-python",
   "name": "python",
   "nbconvert_exporter": "python",
   "pygments_lexer": "ipython3",
   "version": "3.6.4"
  }
 },
 "nbformat": 4,
 "nbformat_minor": 2
}
